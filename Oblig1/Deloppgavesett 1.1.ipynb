{
 "cells": [
  {
   "cell_type": "markdown",
   "source": [
    "### INF-1049 Assignment 1.1:\n",
    "## Formulas\n",
    "### Duedate: 23. August 2021\n",
    "---"
   ],
   "metadata": {}
  },
  {
   "cell_type": "markdown",
   "source": [
    "Hand in by 23. august to get feedback. Final deadline for the entire set of assignments belonging to \"oblig 1\" is 6. September 2021."
   ],
   "metadata": {}
  },
  {
   "cell_type": "markdown",
   "source": [
    "### Exercise 1"
   ],
   "metadata": {}
  },
  {
   "cell_type": "markdown",
   "source": [
    "Create a variable that you print with to screen by using the print function. Variable name and value is completely up to you."
   ],
   "metadata": {}
  },
  {
   "cell_type": "code",
   "execution_count": 2,
   "source": [
    "a = 10 # A variable named 'a' with the value 10.\n",
    "print(\"Variable named 'a' with the value\", a, \".\") # How do I get rid of this ugly space?"
   ],
   "outputs": [
    {
     "output_type": "stream",
     "name": "stdout",
     "text": [
      "Variable named 'a' with the value 10 .\n"
     ]
    }
   ],
   "metadata": {}
  },
  {
   "cell_type": "markdown",
   "source": [
    "### Exercise 2"
   ],
   "metadata": {}
  },
  {
   "cell_type": "markdown",
   "source": [
    "The potential energy associated with a body's weight and its height above the ground is called gravitational potential energy.\n",
    "Gravitational potential energy can be formulated as\n",
    "\n",
    "$$U_{grav} = mgy$$\n",
    "\n",
    "where $\\bf{U}$ is the gravitational potential energy, $\\bf{m}$ is the mass of the particle, $\\bf{g}$ is the gravitational constant and $\\bf{y}$ is the height above som point.\n",
    "\n",
    "Calculate the potential energy of an object with mass 50kg with height 5.2 meters and assume the gravitational constant is 9.81m/s^2. "
   ],
   "metadata": {}
  },
  {
   "cell_type": "code",
   "execution_count": 3,
   "source": [
    "m = 50 # mass in kg\n",
    "y = 5.2 # height in meters\n",
    "g = 9.81 # gravitational constant in m/s^2\n",
    "\n",
    "U_grav = m*g*y # potential energy in joules\n",
    "\n",
    "print(\"The potential energy of an object with mass\", m, \"kg situated\", y, \n",
    "\"meters above the reference point, assuming a gravitational constant of\", g, \"m/s^2 is\", U_grav, \"Joules.\")"
   ],
   "outputs": [
    {
     "output_type": "stream",
     "name": "stdout",
     "text": [
      "The potential energy of an object with mass 50 kg situated 5.2 meters above the reference point, assuming a gravitational constant of 9.81 m/s^2 is 2550.6 Joules.\n"
     ]
    }
   ],
   "metadata": {}
  },
  {
   "cell_type": "markdown",
   "source": [
    "### Exercise 3"
   ],
   "metadata": {}
  },
  {
   "cell_type": "markdown",
   "source": [
    "Work done by the gravitational force on a particle is given by the negative change in the gravitational potential energy. \n",
    "Find the work done when a particle has fallen from 200 meters to 90 meters. \n",
    "\n",
    "$$-\\Delta U_{grav} = mgy_{1} - mgy_{2}$$\n",
    "\n",
    "Where m is the mass of the particle, g is the gravitational constant, $y_{1}$ is the initial height and $y_{2}$ is the final vertical height.<br>\n",
    "Let $g$ be the approximation 9.81 m/s^2 and mass be 5 kg."
   ],
   "metadata": {}
  },
  {
   "cell_type": "code",
   "execution_count": 10,
   "source": [
    "m = 5 # mass in kg. Can a particle have a mass of 5 kg?\n",
    "g = 9.81 # gravitational constant\n",
    "y_1 = 200 # initial height in meters\n",
    "y_2 = 90 # final height in meters\n",
    "\n",
    "negative_deltaU_grav = m*g*y_1 - m*g*y_2 \n",
    "\n",
    "print(\"Work done by the gravitional force on an object of mass\", m, \"kg, falling from\", y_1, \"meters to\",\n",
    "y_2, \"meters, assuming a gravitational constant of\", g, \"m/s^2 is\",\n",
    "negative_deltaU_grav,\"Joule.\")"
   ],
   "outputs": [
    {
     "output_type": "stream",
     "name": "stdout",
     "text": [
      "Work done by the gravitional force on an object of mass 5 kg, falling from 200 meters to 90 meters, assuming a gravitational constant of 9.81 m/s^2 is 5395.5 Joule.\n"
     ]
    }
   ],
   "metadata": {}
  },
  {
   "cell_type": "markdown",
   "source": [
    "### Exercise 4"
   ],
   "metadata": {}
  },
  {
   "cell_type": "markdown",
   "source": [
    "The euclidean distance between two points $P_1=(x_1, y_1)$ and $P_2=(x_2, y_2)$ is given by the formula $$d = \\sqrt{(x_2-x_1)^2 + (y_2-y_1)^2 }.$$\n",
    "\n",
    "Write a program that calculates the distance between the two points $A = (2,2)$ and $B = (-3,-1)$, and print your answer to screen."
   ],
   "metadata": {}
  },
  {
   "cell_type": "code",
   "execution_count": 20,
   "source": [
    "import math # importing the (whole) package 'math'\n",
    "\n",
    "A = [2,2] # point A\n",
    "B = [-3,-1] # point B\n",
    "x_1 = A[0] # first element of A\n",
    "y_1 = A[1] # second element of A. Perhaps there's something like 'end' (last element) in python\n",
    "x_2 = B[0]\n",
    "y_2 = B[1]\n",
    "print(\"X coordinate of A:\", x_1) # just to make sure I've got it right\n",
    "print(\"Y coordinate of A:\", y_2)\n",
    "print(\"X coordinate of B:\", x_1)\n",
    "print(\"Y coordinate of B:\", y_2)\n",
    "\n",
    "d = math.sqrt((x_2-x_1)**2 + (y_2-y_1)**2) # Euclidean distance\n",
    "print(\"The Euclidean distance between points A =\", A, \"and B =\", B, \"is\", d, \".\")\n",
    "\n",
    "\n"
   ],
   "outputs": [
    {
     "output_type": "stream",
     "name": "stdout",
     "text": [
      "X coordinate of A: 2\n",
      "Y coordinate of A: -1\n",
      "X coordinate of B: 2\n",
      "Y coordinate of B: -1\n",
      "The Euclidean distance between points A = [2, 2] and B = [-3, -1] is 5.830951894845301 .\n"
     ]
    }
   ],
   "metadata": {}
  },
  {
   "cell_type": "markdown",
   "source": [
    "### Exercise 5"
   ],
   "metadata": {}
  },
  {
   "cell_type": "markdown",
   "source": [
    "\n",
    "The specific heat capacity of an object is given by the formula $$c = \\frac{Q}{m \\Delta t} \\;,$$ where $Q$ defines the added or extracted heat, $m$ the mass of the object, and $\\Delta t = t_2 - t_1$ denotes the temperature difference in kelvin where $t_2$ defines the highest temperature (in the temperature change). \n",
    "\n",
    "Write Python code that calculates the spesific heat capacity of $1\\,\\mbox{kg}$ air that has a temperature change from $293\\,\\mbox{K}$ to $294\\,\\mbox{K}$ after receiving $1\\,\\mbox{kJ}$ of heat, and print the result to the screen.\n",
    "\n"
   ],
   "metadata": {}
  },
  {
   "cell_type": "code",
   "execution_count": 23,
   "source": [
    "m = 1 # the mass of the object\n",
    "t_2 = 294 # highest temperature in Kelvin\n",
    "t_1 = 293 # lowest temperatue in Kelvin\n",
    "delta_t = t_2-t_1 # temperature change\n",
    "Q = 1000 # added/extracted heat in Joules\n",
    "\n",
    "c = Q/(m*delta_t)\n",
    "\n",
    "print(\"The specific heat capacity of\", m, \"kg of air that has a temperature change from\",\n",
    " t_1, \"K to\", t_2, \"K after receiving 1kJ of heat is\", c, \"Joules.\")"
   ],
   "outputs": [
    {
     "output_type": "stream",
     "name": "stdout",
     "text": [
      "The specific heat capacity of 1 kg of air that has a temperature change from 293 K to 294 K after receiving 1kJ of heat is 1000.0 Joules.\n"
     ]
    }
   ],
   "metadata": {}
  },
  {
   "cell_type": "markdown",
   "source": [
    "### Exercise 6"
   ],
   "metadata": {}
  },
  {
   "cell_type": "markdown",
   "source": [
    "For a body with initial velocity $v_0$ and acceleration $a$ the velocity $v$ at time $t$ is given by $$v(t) = v_0 + at$$ Write code to compute and print the velocity of a body with $v_0 = 5 m/s$ and acceleration $2 m/s^2$ at times $\\{0,4,9.5\\} s$."
   ],
   "metadata": {}
  },
  {
   "cell_type": "code",
   "execution_count": 35,
   "source": [
    "v_0 = 5 # initial velocity in m/s\n",
    "a = 2 # acceleration in m/s^2\n",
    "\n",
    "v = [] # velocity at time t\n",
    "\n",
    "t = [0,4,9.5] # list of time point\n",
    "\n",
    "print(\"Number of times:\", len(t)) # just checking\n",
    "\n",
    "for i in range(0, len(t)): # for-loop (I prefer for over while)\n",
    "   # v.append = v_0 + a*t[i] # first I tried this, didn't work of cours\n",
    "   # print(\"i = \",i)         # checking what's happening before I googled the error\n",
    "   # print(\"velocity:\", v_0 + a*t[i])\n",
    "   v.append(v_0 + a*t[i]) \n",
    "   \n",
    "\n",
    "print(\"The velocity of a body with initial velocity\", v_0, \"and acceleration\", a, \n",
    " \"at times\", t, \"is\", v,\".\")\n"
   ],
   "outputs": [
    {
     "output_type": "stream",
     "name": "stdout",
     "text": [
      "Number of times: 3\n",
      "The velocity of a body with initial velocity 5 and acceleration 2 at times [0, 4, 9.5] is [5, 13, 24.0] .\n"
     ]
    }
   ],
   "metadata": {}
  },
  {
   "cell_type": "code",
   "execution_count": null,
   "source": [],
   "outputs": [],
   "metadata": {}
  }
 ],
 "metadata": {
  "kernelspec": {
   "name": "python3",
   "display_name": "Python 3.8.8 64-bit ('base': conda)"
  },
  "language_info": {
   "codemirror_mode": {
    "name": "ipython",
    "version": 3
   },
   "file_extension": ".py",
   "mimetype": "text/x-python",
   "name": "python",
   "nbconvert_exporter": "python",
   "pygments_lexer": "ipython3",
   "version": "3.8.8"
  },
  "interpreter": {
   "hash": "47afddb3ef9eed2373fe9ddb7fd73a21ba02feb23fd74121dcbc39292c675483"
  }
 },
 "nbformat": 4,
 "nbformat_minor": 2
}