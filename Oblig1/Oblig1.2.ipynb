{
 "cells": [
  {
   "cell_type": "markdown",
   "source": [
    "### INF-1049 Assignment 1.2:\n",
    "## Loops and lists\n",
    "### Duedate: 30. August 2021\n",
    "---"
   ],
   "metadata": {}
  },
  {
   "cell_type": "markdown",
   "source": [
    "# Requirements\n",
    "\n",
    "* Read the excercise text closely, ensure that all elements of the exercise is followed in your answer\n",
    "* Comment your code such that you demonstrate an understanding of the code, if your comments are insufficient, you will not pass\n",
    "* Ensure that the code works before you hand in, solutions that do not work will not be approved\n",
    "* All excercises must be answered\n",
    "* The filename for submission must include your student ID (e.g. abc123_1_2.ipynb)"
   ],
   "metadata": {}
  },
  {
   "cell_type": "markdown",
   "source": [
    "### Exercise 1"
   ],
   "metadata": {}
  },
  {
   "cell_type": "markdown",
   "source": [
    "For the integers between 0 and 50 print out whether the it is even or odd and whether it is a divisible by 7.\n",
    "\n",
    "Example output:\n",
    "\n",
    "`...\n",
    "7 is odd and divisible with 7.\n",
    "8 is even and not divisible with 7.\n",
    "...`"
   ],
   "metadata": {}
  },
  {
   "cell_type": "code",
   "execution_count": 18,
   "source": [
    "oddlist = []\n",
    "sevenlist = []\n",
    "\n",
    "for i in range(1,50): # integers between (i.e, not including) 0 and 50\n",
    "     # i modulus 2, which is 0 if i is even, and 1 if it is odd\n",
    "\n",
    "    if i%2: # testing if the number is odd\n",
    "      # print(i, \"is odd\") # testing if it works\n",
    "      oddlist.append(\"odd\")\n",
    "    else:\n",
    "      oddlist.append(\"even\")\n",
    "\n",
    "    if i%7: # testing if the number is divisible by 7\n",
    "        sevenlist.append(\" not\")\n",
    "    else:\n",
    "        sevenlist.append(\"\") # empty list element\n",
    "\n",
    "    print(str(i) + \" is \" + str(oddlist[i-1]) + \" and\" +  str(sevenlist[i-1]) + \" divisible by 7.\") "
   ],
   "outputs": [
    {
     "output_type": "stream",
     "name": "stdout",
     "text": [
      "1 is odd and not divisible by 7.\n",
      "2 is even and not divisible by 7.\n",
      "3 is odd and not divisible by 7.\n",
      "4 is even and not divisible by 7.\n",
      "5 is odd and not divisible by 7.\n",
      "6 is even and not divisible by 7.\n",
      "7 is odd and divisible by 7.\n",
      "8 is even and not divisible by 7.\n",
      "9 is odd and not divisible by 7.\n",
      "10 is even and not divisible by 7.\n",
      "11 is odd and not divisible by 7.\n",
      "12 is even and not divisible by 7.\n",
      "13 is odd and not divisible by 7.\n",
      "14 is even and divisible by 7.\n",
      "15 is odd and not divisible by 7.\n",
      "16 is even and not divisible by 7.\n",
      "17 is odd and not divisible by 7.\n",
      "18 is even and not divisible by 7.\n",
      "19 is odd and not divisible by 7.\n",
      "20 is even and not divisible by 7.\n",
      "21 is odd and divisible by 7.\n",
      "22 is even and not divisible by 7.\n",
      "23 is odd and not divisible by 7.\n",
      "24 is even and not divisible by 7.\n",
      "25 is odd and not divisible by 7.\n",
      "26 is even and not divisible by 7.\n",
      "27 is odd and not divisible by 7.\n",
      "28 is even and divisible by 7.\n",
      "29 is odd and not divisible by 7.\n",
      "30 is even and not divisible by 7.\n",
      "31 is odd and not divisible by 7.\n",
      "32 is even and not divisible by 7.\n",
      "33 is odd and not divisible by 7.\n",
      "34 is even and not divisible by 7.\n",
      "35 is odd and divisible by 7.\n",
      "36 is even and not divisible by 7.\n",
      "37 is odd and not divisible by 7.\n",
      "38 is even and not divisible by 7.\n",
      "39 is odd and not divisible by 7.\n",
      "40 is even and not divisible by 7.\n",
      "41 is odd and not divisible by 7.\n",
      "42 is even and divisible by 7.\n",
      "43 is odd and not divisible by 7.\n",
      "44 is even and not divisible by 7.\n",
      "45 is odd and not divisible by 7.\n",
      "46 is even and not divisible by 7.\n",
      "47 is odd and not divisible by 7.\n",
      "48 is even and not divisible by 7.\n",
      "49 is odd and divisible by 7.\n"
     ]
    }
   ],
   "metadata": {}
  },
  {
   "cell_type": "markdown",
   "source": [
    "### Exercise 2"
   ],
   "metadata": {}
  },
  {
   "cell_type": "markdown",
   "source": [
    "Compute the mathematical sum $$\\sum_{k=1}^{40} \\frac{\\cos(k)}{\\sin(k)}$$ in two ways.\n",
    "\n",
    " 1. Using a while loop\n",
    "\n",
    " 2. Using a for loop\n",
    "\n",
    "In both cases, print your answer to the screen with 2 digits after comma."
   ],
   "metadata": {}
  },
  {
   "cell_type": "code",
   "execution_count": 10,
   "source": [
    "from math import cos, sin # importing the functions cos and sin from math (and nothing else)\n",
    "\n",
    "# while loop\n",
    "\n",
    "while_sum = 0 # allocate the variable sum\n",
    "k = 1 # start at 1\n",
    "while k < 41: # finish at 40\n",
    "    while_sum = while_sum + cos(k)/sin(k)\n",
    "    # without updating, see if you can kill (real easy, it's that play button changing to a stop)\n",
    "    k = k + 1\n",
    "\n",
    "# using format to print the trailing 0's\n",
    "print(\"Using a while loop, the final sum is\", '{:.2f}'.format(round(while_sum, 2))) \n",
    "\n",
    "# for loop\n",
    "for_sum = 0 # allocate the variable sum\n",
    "for k in range(1,41): # start at 1, finish at 40\n",
    "    for_sum = for_sum + cos(k)/sin(k)\n",
    "\n",
    "print(\"Using a for loop, the final sum is\", '{:.2f}'.format(round(for_sum, 2))) \n",
    "\n",
    "if while_sum == for_sum:\n",
    "    print(\"They are exactly the same!\")\n",
    "else:\n",
    "    print(\"Something went wrong. Check your code!\")\n",
    "\n",
    "\n"
   ],
   "outputs": [
    {
     "output_type": "stream",
     "name": "stdout",
     "text": [
      "Using a while loop, the final sum is 104.20\n",
      "Using a for loop, the final sum is 104.20\n",
      "They are exactly the same!\n"
     ]
    }
   ],
   "metadata": {}
  },
  {
   "cell_type": "markdown",
   "source": [
    "### Exercise 3"
   ],
   "metadata": {}
  },
  {
   "cell_type": "markdown",
   "source": [
    "We are given the following data\n",
    "\n",
    "| Planet| Mass[kg] |\n",
    "|-|-|\n",
    "|Mercury| 3,302$\\cdot10^{23}$|\n",
    "|Venus| 4,868$\\cdot10^{24}$|\n",
    "|Earth| 5,987$\\cdot10^{24}$|\n",
    "|Mars| 6,418$\\cdot10^{23}$|\n",
    "|Jupiter| 1,898$\\cdot10^{27}$|\n",
    "|Saturn|5,684$\\cdot10^{26}$|\n",
    "|Uranus| 8,684$\\cdot10^{25}$|\n",
    "|Neptune| 1,025$\\cdot10^{26}$|\n",
    "\n",
    "#### a)\n",
    "Make two lists, one for the planets and one for their masses.\n",
    "\n",
    "#### b)\n",
    "\n",
    "Use a for loop and zip to print out the planet and corresponding mass as shown\n",
    "> Planet: Mercury, Mass: 3.30e+23 kg\n",
    "\n",
    "#### c)\n",
    "\n",
    "Add Pluto to the planet list and its mass to the other list using append. Print out the lists.\n",
    ">The mass of Pluto is 1.30e+22 kg\n",
    "\n",
    "#### d)\n",
    "Do the following\n",
    "1. Print \"$Jupyter$\" using indexing.\n",
    "2. Print the three last and the three first planets using slicing.\n",
    "3. Print out every second planet starting on index 0. *Hint: list[0::2]*\n",
    "4. Delete \"$Pluto$\" and its corresponding mass from the lists using del and/or pop (read what/howto in the book).\n"
   ],
   "metadata": {}
  },
  {
   "cell_type": "code",
   "execution_count": 49,
   "source": [
    "#### a)\n",
    "print(\"a)\")\n",
    "\n",
    "planet_list = [\"Mercury\", \"Venus\", \"Earth\", \"Mars\", \"Jupiter\", \"Saturn\", \"Uranus\", \"Neptune\"]\n",
    "mass_list = [3.302e+23, 4.868e+24, 5.987e+24, 6.418e+23, 1.898e+27, 5.684e+26, 8.684e+25,\n",
    "1.025e+26] # e+, not 10^\n",
    "\n",
    "print(len(planet_list), \"planets:\", planet_list)\n",
    "print(\"List of \", len(mass_list), \" masses: \", mass_list[0], \", \", mass_list[1], \",...\", sep = '') # Just checking\n",
    "print() # blank line\n",
    "\n",
    "#### b)\n",
    "print(\"b)\")\n",
    "\n",
    "planet_mass = zip(planet_list, mass_list) # zipping together two lists\n",
    "\n",
    "for elem in planet_mass: # for each element in \n",
    "    print(\"Planet: \", elem[0], \", Mass: \", elem[1], \" kg.\", sep = '')\n",
    "    # print(\"Planet:\", planet_mass[elem])\n",
    "\n",
    "print()\n",
    "\n",
    "#### c)\n",
    "print(\"c)\")\n",
    "# Add Pluto to the planet list and its mass to the other list using append. Print out the lists.\n",
    "# The mass of Pluto is 1.30e+22 kg\n",
    "\n",
    "planet_list.append(\"Pluto\")\n",
    "mass_list.append(1.30e+22)\n",
    "\n",
    "if len(planet_list) != len(mass_list):\n",
    "    print(\"Error, error!\")\n",
    "else:\n",
    "    for i in range(0,len(planet_list)): # for length of planet_list\n",
    "        print(\"The mass of \", planet_list[i], \" is \", mass_list[i], \".\", sep  = '')\n",
    "\n",
    "# I tried looking into keeping that one trailing zero for the mass of Pluto, but it was a bit difficult since the\n",
    "# other planets' masses have three digits after the dicimal point. I figured it's not all that important. \n",
    "\n",
    "print()\n",
    "\n",
    "#### d)\n",
    "print(\"d)\")\n",
    "\n",
    "idx = planet_list.index(\"Jupiter\") # \"Jupyter\" does not exist\n",
    "print(\"Finding Jupiter:\", planet_list[idx]) # Jupiter by index\n",
    "\n",
    "print(\"Three last planets:\", planet_list[-3:]) # three last\n",
    "print(\"Three first planets:\", planet_list[:3]) # three first\n",
    "print(\"Every second planet:\", planet_list[0::2]) # every second\n",
    "\n",
    "planet_list.pop() # popping Pluto\n",
    "del(mass_list[-1]) # deleting its mass\n",
    "\n",
    "print(\"Removing Pluto:\", planet_list)\n"
   ],
   "outputs": [
    {
     "output_type": "stream",
     "name": "stdout",
     "text": [
      "a)\n",
      "8 planets: ['Mercury', 'Venus', 'Earth', 'Mars', 'Jupiter', 'Saturn', 'Uranus', 'Neptune']\n",
      "List of 8 masses: 3.302e+23, 4.868e+24,...\n",
      "\n",
      "b)\n",
      "Planet: Mercury, Mass: 3.302e+23 kg.\n",
      "Planet: Venus, Mass: 4.868e+24 kg.\n",
      "Planet: Earth, Mass: 5.987e+24 kg.\n",
      "Planet: Mars, Mass: 6.418e+23 kg.\n",
      "Planet: Jupiter, Mass: 1.898e+27 kg.\n",
      "Planet: Saturn, Mass: 5.684e+26 kg.\n",
      "Planet: Uranus, Mass: 8.684e+25 kg.\n",
      "Planet: Neptune, Mass: 1.025e+26 kg.\n",
      "\n",
      "c)\n",
      "The mass of Mercury is 3.302e+23.\n",
      "The mass of Venus is 4.868e+24.\n",
      "The mass of Earth is 5.987e+24.\n",
      "The mass of Mars is 6.418e+23.\n",
      "The mass of Jupiter is 1.898e+27.\n",
      "The mass of Saturn is 5.684e+26.\n",
      "The mass of Uranus is 8.684e+25.\n",
      "The mass of Neptune is 1.025e+26.\n",
      "The mass of Pluto is 1.3e+22.\n",
      "\n",
      "d)\n",
      "Finding Jupiter: Jupiter\n",
      "Three last planets: ['Uranus', 'Neptune', 'Pluto']\n",
      "Three first planets: ['Mercury', 'Venus', 'Earth']\n",
      "Every second planet: ['Mercury', 'Earth', 'Jupiter', 'Uranus', 'Pluto']\n",
      "Removing Pluto: ['Mercury', 'Venus', 'Earth', 'Mars', 'Jupiter', 'Saturn', 'Uranus', 'Neptune']\n"
     ]
    }
   ],
   "metadata": {}
  },
  {
   "cell_type": "markdown",
   "source": [
    "### Exercise 4"
   ],
   "metadata": {}
  },
  {
   "cell_type": "markdown",
   "source": [
    "`quote` is a list of strings that together form a sentence. \n",
    "\n",
    "```python\n",
    "quote = ['Programs', 'must', 'be', 'written', 'for', 'people', \\\n",
    "         'to', 'read,', 'and', 'only', 'incidentally', 'for', \\\n",
    "         'machines', 'to', 'execute'] \n",
    "```\n",
    "\n",
    "1. Iterate through `quote` and print out every word.\n",
    "2. Iterate through `quote` and print every word with it's index.e.g.\n",
    "```\n",
    " 0: Programs\n",
    " 1: must\n",
    " 2: be\n",
    " ...\n",
    "```\n",
    "\n",
    "    *Hint: The `enumerate` function might help.*\n",
    "    \n",
    "    *Hint2: If you would like to learn more about how to design the output, lookup string formatting. e.g. f\"{5.00:-<20.3g}\".*\n",
    "3. Iterate through `quote` and print out the number of letters in each word. \n",
    "\n",
    "4. Iterate through `quote`, count the total number of letters in the sentence and print the result to screen.\n",
    "\n"
   ],
   "metadata": {}
  },
  {
   "cell_type": "code",
   "execution_count": null,
   "source": [],
   "outputs": [],
   "metadata": {}
  },
  {
   "cell_type": "markdown",
   "source": [
    "### Exercise 5"
   ],
   "metadata": {}
  },
  {
   "cell_type": "markdown",
   "source": [
    "Below are three python structures and three tasks.\n",
    "- Structure A: for loop\n",
    "- Structure B: while loop\n",
    "- Structure C: if-else-block\n",
    "\n",
    "\n",
    "\n",
    "- Task 1: Implement a program that computes f(x) for x. Test your program with `x=6`.\n",
    "- Task 2: Implement a program that computes g(x) for all integers from 4 to 20.\n",
    "- Task 3: Implement a program that prints a value from an unordered list of unknown numbers until the first value higher than 11 is reached. Let an example list of numbers be \n",
    "    ```python\n",
    "    unordered = [3,9,7,4,54,8,6,76,12]\n",
    "    ```\n",
    "\n",
    "Formulas:\n",
    "\\begin{align}\n",
    "    f(x) &= \n",
    "    \\begin{cases}\n",
    "        0& , x \\le 0 \\\\\n",
    "        x^{-0.2}& , 0 < x \\le 1  \\\\\n",
    "        1& , 1 < x\n",
    "    \\end{cases}\n",
    "    \\\\[1.2mm]\n",
    "    g(x) &= \\sum_{k=0}^{10} \\frac{(-1)^k x^{2k}}{(2k)!}\n",
    "\\end{align}\n",
    "\n",
    "\n",
    "1. Pick the most suitable python structure to solve each problem\n",
    "2. Discribe stepwise how you would implement the three tasks.\n",
    "3. Pick one of the tasks and complete it.\n",
    "\n",
    "*Hint: if you choose Task 2, use the `factorial` function from `math`*"
   ],
   "metadata": {}
  },
  {
   "cell_type": "code",
   "execution_count": null,
   "source": [],
   "outputs": [],
   "metadata": {}
  },
  {
   "cell_type": "markdown",
   "source": [
    "### Exercise 6"
   ],
   "metadata": {}
  },
  {
   "cell_type": "markdown",
   "source": [
    "1. Use a list comprehension to generate a list of values with the expression $E(e) = e/3$ where the range varies in the interval (-6, 6).\n",
    "\n",
    "1. Use another list comprehension to generate a list of $f(x)$ values for the function \n",
    "$$f(x) = \\frac{a}{x+6} - b$$\n",
    "when $a = 100$ and $b = 2$. The range of $x$ should be the list generated in 1.\n",
    "\n",
    "1. Print the sentence *\"The value $x=x_i$ corresponds to the value $y=f(x_i)$ relative to the function $f(x)$.\"* for all corresponding values $(x_i, f(x_i))$ in the lists from 1 and 2. \n",
    "\n",
    "    *Hint: the zip-command discussed in section 2.3.6 may come in handy here.*\n",
    "\n",
    "1. Store the value pairs $(x_i, f(x_i))$ from task 1 and 2 in a nested list on the form $[[x_0, y_0],[x_1,y_1]\\dots[x_i, y_i]]$. Print the nested list to the screen.\n",
    "\n",
    "1. Iterate over the nested list from 4 and generate a new nested list on the form $[[x_0, x_1, ...], [y_0, y_1, ...]]$."
   ],
   "metadata": {}
  },
  {
   "cell_type": "code",
   "execution_count": null,
   "source": [],
   "outputs": [],
   "metadata": {}
  }
 ],
 "metadata": {
  "kernelspec": {
   "name": "python3",
   "display_name": "Python 3.8.8 64-bit ('base': conda)"
  },
  "language_info": {
   "codemirror_mode": {
    "name": "ipython",
    "version": 3
   },
   "file_extension": ".py",
   "mimetype": "text/x-python",
   "name": "python",
   "nbconvert_exporter": "python",
   "pygments_lexer": "ipython3",
   "version": "3.8.8"
  },
  "interpreter": {
   "hash": "47afddb3ef9eed2373fe9ddb7fd73a21ba02feb23fd74121dcbc39292c675483"
  }
 },
 "nbformat": 4,
 "nbformat_minor": 2
}