{
 "cells": [
  {
   "cell_type": "code",
   "execution_count": 5,
   "id": "929c6358-fbda-4b13-9420-2dfd1eff95ab",
   "metadata": {},
   "outputs": [
    {
     "name": "stdout",
     "output_type": "stream",
     "text": [
      "False\n",
      "True\n"
     ]
    }
   ],
   "source": [
    "x = 0\n",
    "y = 1.2\n",
    "\n",
    "print(x >= 0 and y < 1)\n",
    "print(x >= 0 or y < 1)"
   ]
  },
  {
   "cell_type": "code",
   "execution_count": 2,
   "id": "cbc5e8a3-1191-4f09-9e8f-940f4b6e3262",
   "metadata": {},
   "outputs": [
    {
     "name": "stdout",
     "output_type": "stream",
     "text": [
      "True\n",
      "True\n"
     ]
    }
   ],
   "source": [
    "print(-1 < x <= 0)\n",
    "print(-1 < x and x <= 0)"
   ]
  },
  {
   "cell_type": "code",
   "execution_count": 6,
   "id": "b8f8afb2-f424-40de-8a4a-44db41e30465",
   "metadata": {},
   "outputs": [
    {
     "name": "stdout",
     "output_type": "stream",
     "text": [
      "True\n",
      "True\n",
      "False\n"
     ]
    }
   ],
   "source": [
    "print(x >= 0 and not y < 1)\n",
    "print(y == 1.2)\n",
    "print(not y == 1.2)"
   ]
  },
  {
   "cell_type": "code",
   "execution_count": 26,
   "id": "9d8887f2-6fe7-4551-b2d7-e54c09dbe815",
   "metadata": {},
   "outputs": [
    {
     "name": "stdout",
     "output_type": "stream",
     "text": [
      "['Tromso', 69.6489, 18.95508, 76649]\n"
     ]
    }
   ],
   "source": [
    "geo_data = [\"Tromso\", 69.6489, 18.95508, 76649]\n",
    "print(geo_data)"
   ]
  },
  {
   "cell_type": "code",
   "execution_count": 27,
   "id": "117a31de-eb4d-4530-9808-e9454a55f8e3",
   "metadata": {},
   "outputs": [
    {
     "name": "stdout",
     "output_type": "stream",
     "text": [
      "Tromso\n"
     ]
    }
   ],
   "source": [
    "print(geo_data[-0])"
   ]
  },
  {
   "cell_type": "code",
   "execution_count": 28,
   "id": "258aed23-7331-4e45-aaa9-937adf581a73",
   "metadata": {},
   "outputs": [
    {
     "name": "stdout",
     "output_type": "stream",
     "text": [
      "['Tromso', 69.6489, 'July 2020', 18.95508, 76649]\n"
     ]
    }
   ],
   "source": [
    "geo_data.insert(-2, \"July 2020\")\n",
    "print(geo_data)"
   ]
  },
  {
   "cell_type": "code",
   "execution_count": 37,
   "id": "01f15808-ca76-4ab1-b99d-e3866eab5069",
   "metadata": {},
   "outputs": [
    {
     "name": "stdout",
     "output_type": "stream",
     "text": [
      "['Tromso', 69.6489, 'July 2020', 18.95508, 76649, 'September 2020', 8.3, 'September 2020', 8.3, ['September 2020', 8.3], 'September 2020', 8.3, ['September 2020', 8.3], 'September 2020', 8.3, ['September 2020', 8.3], 'September 2020', 8.3, ['September 2020', 8.3], 'September 2020', 8.3, ['September 2020', 8.3], 'September 2020', 8.3, ['September 2020', 8.3], 'September 2020', 8.3, ['September 2020', 8.3], 'September 2020', 8.3]\n",
      "['Tromso', 69.6489, 'July 2020', 18.95508, 76649, 'September 2020', 8.3, 'September 2020', 8.3, ['September 2020', 8.3], 'September 2020', 8.3, ['September 2020', 8.3], 'September 2020', 8.3, ['September 2020', 8.3], 'September 2020', 8.3, ['September 2020', 8.3], 'September 2020', 8.3, ['September 2020', 8.3], 'September 2020', 8.3, ['September 2020', 8.3], 'September 2020', 8.3, ['September 2020', 8.3], 'September 2020', 8.3, ['September 2020', 8.3]]\n",
      "Se\n"
     ]
    }
   ],
   "source": [
    "geo_data.extend([\"September 2020\", 8.3])\n",
    "print(geo_data)\n",
    "\n",
    "geo_data.append([\"September 2020\", 8.3])\n",
    "print(geo_data)\n",
    "\n",
    "print(geo_data[12][0][:2])"
   ]
  },
  {
   "cell_type": "code",
   "execution_count": 16,
   "id": "f93fae14-ba32-499d-8633-c71af9a39231",
   "metadata": {},
   "outputs": [
    {
     "name": "stdout",
     "output_type": "stream",
     "text": [
      "['Tromso', 69.6489, 'July 2020', 18.95508, 76649, 8.3]\n"
     ]
    }
   ],
   "source": [
    "geo_data.pop(-2)\n",
    "print(geo_data)"
   ]
  },
  {
   "cell_type": "code",
   "execution_count": 17,
   "id": "dc2281a9-09d2-419c-bbf4-02409b4a48cd",
   "metadata": {},
   "outputs": [
    {
     "name": "stdout",
     "output_type": "stream",
     "text": [
      "['Tromso', 69.6489, 18.95508, 76649, 8.3]\n"
     ]
    }
   ],
   "source": [
    "geo_data.remove(\"July 2020\")\n",
    "print(geo_data)"
   ]
  },
  {
   "cell_type": "code",
   "execution_count": 25,
   "id": "50881875-4ae9-4d35-8090-de901f1a7daa",
   "metadata": {},
   "outputs": [
    {
     "name": "stdout",
     "output_type": "stream",
     "text": [
      "[69.6489]\n"
     ]
    }
   ],
   "source": [
    "geo_data = geo_data[1:2:3] # every other element\n",
    "print(geo_data)"
   ]
  },
  {
   "cell_type": "code",
   "execution_count": 38,
   "id": "d605392a-c42d-4697-8f71-1740fc4ecf76",
   "metadata": {},
   "outputs": [
    {
     "name": "stdout",
     "output_type": "stream",
     "text": [
      "0 Tromso\n",
      "1 69.6489\n",
      "2 July 2020\n",
      "3 18.95508\n",
      "4 76649\n",
      "5 September 2020\n",
      "6 8.3\n",
      "7 September 2020\n",
      "8 8.3\n",
      "9 ['September 2020', 8.3]\n",
      "10 September 2020\n",
      "11 8.3\n",
      "12 ['September 2020', 8.3]\n",
      "13 September 2020\n",
      "14 8.3\n",
      "15 ['September 2020', 8.3]\n",
      "16 September 2020\n",
      "17 8.3\n",
      "18 ['September 2020', 8.3]\n",
      "19 September 2020\n",
      "20 8.3\n",
      "21 ['September 2020', 8.3]\n",
      "22 September 2020\n",
      "23 8.3\n",
      "24 ['September 2020', 8.3]\n",
      "25 September 2020\n",
      "26 8.3\n",
      "27 ['September 2020', 8.3]\n",
      "28 September 2020\n",
      "29 8.3\n",
      "30 ['September 2020', 8.3]\n"
     ]
    }
   ],
   "source": [
    "for i in range(len(geo_data)):\n",
    "    print(i,geo_data[i])"
   ]
  },
  {
   "cell_type": "code",
   "execution_count": 39,
   "id": "2d3916c7-d635-4d62-b1a7-4ba8e9867a09",
   "metadata": {},
   "outputs": [
    {
     "name": "stdout",
     "output_type": "stream",
     "text": [
      "Tromso\n",
      "69.6489\n",
      "July 2020\n",
      "18.95508\n",
      "76649\n",
      "September 2020\n",
      "8.3\n",
      "September 2020\n",
      "8.3\n",
      "['September 2020', 8.3]\n",
      "September 2020\n",
      "8.3\n",
      "['September 2020', 8.3]\n",
      "September 2020\n",
      "8.3\n",
      "['September 2020', 8.3]\n",
      "September 2020\n",
      "8.3\n",
      "['September 2020', 8.3]\n",
      "September 2020\n",
      "8.3\n",
      "['September 2020', 8.3]\n",
      "September 2020\n",
      "8.3\n",
      "['September 2020', 8.3]\n",
      "September 2020\n",
      "8.3\n",
      "['September 2020', 8.3]\n",
      "September 2020\n",
      "8.3\n",
      "['September 2020', 8.3]\n"
     ]
    }
   ],
   "source": [
    "for var in geo_data:\n",
    "    print(var)\n",
    "    "
   ]
  },
  {
   "cell_type": "code",
   "execution_count": 40,
   "id": "81e44943-b941-4d95-b185-5e948e1db9e6",
   "metadata": {},
   "outputs": [
    {
     "name": "stdout",
     "output_type": "stream",
     "text": [
      "0 Tromso\n",
      "3 18.95508\n",
      "6 8.3\n",
      "9 ['September 2020', 8.3]\n",
      "12 ['September 2020', 8.3]\n",
      "15 ['September 2020', 8.3]\n",
      "18 ['September 2020', 8.3]\n",
      "21 ['September 2020', 8.3]\n",
      "24 ['September 2020', 8.3]\n",
      "27 ['September 2020', 8.3]\n",
      "30 ['September 2020', 8.3]\n"
     ]
    }
   ],
   "source": [
    "for i in range(0,len(geo_data),3):\n",
    "    print(i,geo_data[i])"
   ]
  },
  {
   "cell_type": "code",
   "execution_count": 41,
   "id": "c2dfaaac-3296-4282-b125-a1468ef6f680",
   "metadata": {},
   "outputs": [
    {
     "name": "stdout",
     "output_type": "stream",
     "text": [
      "i 0 k 0\n",
      "i 0 k 2\n",
      "i 0 k 4\n",
      "i 1 k 0\n",
      "i 1 k 2\n",
      "i 1 k 4\n",
      "i 2 k 0\n",
      "i 2 k 2\n",
      "i 2 k 4\n"
     ]
    }
   ],
   "source": [
    "for i in range(3):\n",
    "    for k in range(0, 5, 2):\n",
    "        print(\"i\", i, \"k\", k)"
   ]
  },
  {
   "cell_type": "code",
   "execution_count": 44,
   "id": "0f954d83-e2c0-43cd-b32f-982ec266dd19",
   "metadata": {},
   "outputs": [
    {
     "name": "stdout",
     "output_type": "stream",
     "text": [
      "[[['Tromso', 69.64, 18.95], ['July 2020', 13.0]], [['Oslo', 63.64, 12.95], ['July 2020', 14.0]]]\n"
     ]
    }
   ],
   "source": [
    "temp_data = []\n",
    "temp_data.append([[\"Tromso\", 69.64, 18.95], [\"July 2020\", 13.0]])\n",
    "temp_data.append([[\"Oslo\", 63.64, 12.95], [\"July 2020\", 14.0]])\n",
    "print(temp_data)"
   ]
  },
  {
   "cell_type": "code",
   "execution_count": 45,
   "id": "950512ee-8c21-4862-9b68-0dbe358d4bcc",
   "metadata": {},
   "outputs": [
    {
     "name": "stdout",
     "output_type": "stream",
     "text": [
      "[['Tromso', 69.64, 18.95], ['July 2020', 13.0]]\n",
      "['Tromso', 69.64, 18.95]\n",
      "['July 2020', 13.0]\n",
      "\n",
      "[['Oslo', 63.64, 12.95], ['July 2020', 14.0]]\n",
      "['Oslo', 63.64, 12.95]\n",
      "['July 2020', 14.0]\n",
      "\n"
     ]
    }
   ],
   "source": [
    "for city in temp_data:\n",
    "    print(city)\n",
    "    for data_point in city:\n",
    "        print(data_point)\n",
    "    print()\n",
    "     "
   ]
  },
  {
   "cell_type": "code",
   "execution_count": null,
   "id": "a6fe88ce-f255-4474-b916-7f6270866607",
   "metadata": {},
   "outputs": [],
   "source": []
  }
 ],
 "metadata": {
  "kernelspec": {
   "display_name": "Python 3",
   "language": "python",
   "name": "python3"
  },
  "language_info": {
   "codemirror_mode": {
    "name": "ipython",
    "version": 3
   },
   "file_extension": ".py",
   "mimetype": "text/x-python",
   "name": "python",
   "nbconvert_exporter": "python",
   "pygments_lexer": "ipython3",
   "version": "3.8.8"
  }
 },
 "nbformat": 4,
 "nbformat_minor": 5
}
